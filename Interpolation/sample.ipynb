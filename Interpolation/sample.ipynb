{
 "cells": [
  {
   "cell_type": "code",
   "execution_count": 5,
   "metadata": {},
   "outputs": [],
   "source": [
    "import matplotlib.pyplot as plt\n",
    "import numpy as np\n",
    "\n",
    "from inverse_interpolation import InverseInterpolation\n",
    "from utils.helpers import load_config"
   ]
  },
  {
   "cell_type": "code",
   "execution_count": 6,
   "metadata": {},
   "outputs": [
    {
     "data": {
      "text/plain": [
       "{'method': 'iterative',\n",
       " 'inverse_function': {'type': 'lagrange'},\n",
       " 'iterative': {'type': 'auto', 'max_ite': 100, 'tolerance': '1e-6'}}"
      ]
     },
     "execution_count": 6,
     "metadata": {},
     "output_type": "execute_result"
    }
   ],
   "source": [
    "config = load_config('config.yml')\n",
    "config"
   ]
  },
  {
   "cell_type": "code",
   "execution_count": 7,
   "metadata": {},
   "outputs": [
    {
     "data": {
      "text/plain": [
       "<matplotlib.collections.PathCollection at 0x7fb214c58a30>"
      ]
     },
     "execution_count": 7,
     "metadata": {},
     "output_type": "execute_result"
    },
    {
     "data": {
      "image/png": "[encoded data removed]",
      "text/plain": [
       "<Figure size 432x288 with 1 Axes>"
      ]
     },
     "metadata": {
      "needs_background": "light"
     },
     "output_type": "display_data"
    }
   ],
   "source": [
    "observations = np.linspace(-0.25,0.25, 10)\n",
    "references = observations**3 - observations**2 + 1\n",
    "val = 0.985\n",
    "plt.plot(observations, references)\n",
    "plt.scatter(observations, references)"
   ]
  },
  {
   "cell_type": "code",
   "execution_count": 8,
   "metadata": {},
   "outputs": [],
   "source": [
    "client = InverseInterpolation(config)"
   ]
  },
  {
   "cell_type": "code",
   "execution_count": 9,
   "metadata": {},
   "outputs": [
    {
     "name": "stdout",
     "output_type": "stream",
     "text": [
      "{(2, 3): (0, 5), (6, 7): (5, 9)}\n",
      "[[ 0.921875    0.5933642  -1.58333333  1.        ]\n",
      " [ 0.95483968  0.41743827 -1.41666667  0.        ]\n",
      " [ 0.97803069  0.26003086  0.          0.        ]\n",
      " [ 0.99247685  0.          0.          0.        ]]\n",
      "[[ 0.99363426 -0.18441358 -0.58333333  1.        ]\n",
      " [ 0.98338906 -0.2492284  -0.41666667  0.        ]\n",
      " [ 0.96954304 -0.29552469  0.          0.        ]\n",
      " [ 0.953125    0.          0.          0.        ]]\n"
     ]
    },
    {
     "data": {
      "text/plain": [
       "[{'root': 5.00912918709353e+322175111801781151797147740875412035165636017771,\n",
       "  'iteration': 100,\n",
       "  'tol': 5.00912918709353e+322175111801781151797147740875412035165636017771,\n",
       "  'isConvergence': False},\n",
       " {'root': 5.56805109781082e+319393809493912665084209857242650847239252717733,\n",
       "  'iteration': 100,\n",
       "  'tol': 1.00224919760595e+319393809493912665084209857242650847239252717735,\n",
       "  'isConvergence': False}]"
      ]
     },
     "execution_count": 9,
     "metadata": {},
     "output_type": "execute_result"
    }
   ],
   "source": [
    "client.fit(observations, references, val)"
   ]
  },
  {
   "cell_type": "code",
   "execution_count": null,
   "metadata": {},
   "outputs": [],
   "source": []
  }
 ],
 "metadata": {
  "interpreter": {
   "hash": "05c950c2b21730c3918e76f8461d4d164a94452cdcd9f5dd4be39da6688be54f"
  },
  "kernelspec": {
   "display_name": "Python 3.9.5 64-bit ('deepLearning': conda)",
   "language": "python",
   "name": "python3"
  },
  "language_info": {
   "codemirror_mode": {
    "name": "ipython",
    "version": 3
   },
   "file_extension": ".py",
   "mimetype": "text/x-python",
   "name": "python",
   "nbconvert_exporter": "python",
   "pygments_lexer": "ipython3",
   "version": "3.9.7"
  },
  "orig_nbformat": 4
 },
 "nbformat": 4,
 "nbformat_minor": 2
}
