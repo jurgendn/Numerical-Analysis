{
 "cells": [
  {
   "cell_type": "code",
   "execution_count": 291,
   "metadata": {},
   "outputs": [],
   "source": [
    "from typing import Iterable\n",
    "\n",
    "import numpy as np\n",
    "import sympy as sy\n",
    "\n",
    "\n",
    "class NewtonInterpolation:\n",
    "\n",
    "    def __init__(self):\n",
    "        pass\n",
    "\n",
    "    def __get_divided_differential__(self, X: Iterable, Y: Iterable):\n",
    "        num_obs = len(X)\n",
    "        res = np.zeros(shape=(num_obs, num_obs))\n",
    "\n",
    "        res[:, 0] = Y\n",
    "        for id_y in range(1, num_obs):\n",
    "            for id_x in range(0, num_obs - id_y):\n",
    "                differential = res[id_x + 1][id_y - 1] - res[id_x][id_y - 1]\n",
    "                divided = X[id_x + id_y] - X[id_x]\n",
    "                res[id_x][id_y] = differential / divided\n",
    "        return res\n",
    "\n",
    "    def fit(self, X: Iterable, Y: Iterable, method: str = 'forward'):\n",
    "        assert len(X) == len(Y)\n",
    "\n",
    "        x_var = sy.Symbol('x')\n",
    "\n",
    "        divided_differential = self.__get_divided_differential__(X=X, Y=Y)\n",
    "\n",
    "        res = 0\n",
    "        term_list = []\n",
    "        term = 1\n",
    "\n",
    "        if method == 'forward':\n",
    "            r = divided_differential[0]\n",
    "        elif method == 'backward':\n",
    "            r = np.fliplr(divided_differential).diagonal()\n",
    "\n",
    "        for _, (obs, coef) in enumerate(zip(X, r)):\n",
    "            res += coef * term\n",
    "            term_list.append(coef * term)\n",
    "            term *= (x_var - obs)\n",
    "        self.res = res\n",
    "        self.term_list = term_list\n",
    "        return res\n",
    "\n",
    "    def add_points(self, X: Iterable, Y: Iterable):\n",
    "        pass\n",
    "\n",
    "    def eval(self, val):\n",
    "        return self.res.subs({'x': val})\n"
   ]
  },
  {
   "cell_type": "code",
   "execution_count": 376,
   "metadata": {},
   "outputs": [
    {
     "data": {
      "text/plain": [
       "{'method': 'iterative',\n",
       " 'inverse_function': {'type': 'lagrange'},\n",
       " 'iterative': {'type': 'auto', 'max_ite': 100, 'tolerance': '1e-6'}}"
      ]
     },
     "execution_count": 6,
     "metadata": {},
     "output_type": "execute_result"
    }
   ],
   "source": [
    "from typing import Dict, Iterable, Tuple\n",
    "\n",
    "import numpy as np\n",
    "\n",
    "from module import LagrangeInterpolation\n",
    "\n",
    "\n",
    "class InverseInterpolation:\n",
    "\n",
    "    def __init__(self, config: Dict) -> None:\n",
    "        self.method = config['method']\n",
    "        self.config = config[self.method]\n",
    "        if config.get('method', False) == 'inverse_function':\n",
    "            if config['inverse_function']['type'] == 'lagrange':\n",
    "                self.interpolator = LagrangeInterpolation()\n",
    "            elif config['inverse_function']['type'] == 'newton':\n",
    "                self.interpolator = NewtonInterpolation()\n",
    "        elif config.get('method', False) == 'iterative':\n",
    "            self.interpolator = NewtonInterpolation()\n",
    "\n",
    "    def __get_monotonic_sequences__(self, Y: Iterable):\n",
    "        \"\"\"Xác định các chuỗi đơn điệu\n",
    "\n",
    "        Args:\n",
    "            Y (Iterable): Y\n",
    "\n",
    "        Returns:\n",
    "            [List[Tuple]]: Các khoảng đơn điệu, gồm điểm đầu và điểm cuối\n",
    "        \"\"\"\n",
    "        indices = [0]\n",
    "        diff = np.diff(Y)\n",
    "        for idx in range(1, len(diff)):\n",
    "            if diff[idx - 1] * diff[idx] < 0:\n",
    "                indices.append(idx)\n",
    "        indices.append(len(diff))\n",
    "        return list(zip(indices, indices[1:]))\n",
    "\n",
    "    def __get_isolation_interval__(self, Y: Iterable, target: float):\n",
    "        \"\"\"Tìm khoảng phân ly nghiệm\n",
    "\n",
    "        Args:\n",
    "            Y (Iterable): Y\n",
    "            target (float): Giá trị cần tính\n",
    "\n",
    "        Returns:\n",
    "            [List[Tuple]]: Tập các khoảng phân ly nghiệm\n",
    "        \"\"\"\n",
    "        indices = []\n",
    "        diff = list(map(lambda ref: target - ref, Y))\n",
    "        for index in range(1, len(Y)):\n",
    "            if diff[index - 1] * diff[index] < 0:\n",
    "                indices.append((index - 1, index))\n",
    "        return indices\n",
    "\n",
    "    def __get_divided_differential__(self, X: Iterable, Y: Iterable):\n",
    "        \"\"\"Bảng tỉ hiệu\n",
    "        \"\"\"\n",
    "        num_obs = len(X)\n",
    "        res = np.zeros(shape=(num_obs, num_obs))\n",
    "\n",
    "        res[:, 0] = Y\n",
    "        for id_y in range(1, num_obs):\n",
    "            for id_x in range(0, num_obs - id_y):\n",
    "                differential = res[id_x + 1][id_y - 1] - res[id_x][id_y - 1]\n",
    "                divided = X[id_x + id_y] - X[id_x]\n",
    "                res[id_x][id_y] = differential / divided\n",
    "        return res\n",
    "\n",
    "    def __get_containing_monotonic_seq__(self, monotonic_seq: Iterable,\n",
    "                                         isolation_interval: Iterable):\n",
    "        \"\"\"Xác định khoảng đơn điệu chứa khoảng phân ly nghiệm\n",
    "\n",
    "        Args:\n",
    "            monotonic_seq (Iterable): Các khoảng đơn điệu\n",
    "            isolation_interval (Iterable): Các khoảng phân ly nghiệm\n",
    "\n",
    "        Returns:\n",
    "            [Dict]: {Khoảng phân ly: Khoảng chứa}\n",
    "        \"\"\"\n",
    "        res = {}\n",
    "        for interval in isolation_interval:\n",
    "            out = list(\n",
    "                filter(\n",
    "                    lambda s: (interval[0] - s[0]) * (interval[1] - s[1]) <= 0,\n",
    "                    monotonic_seq))[0]\n",
    "            res[interval] = out\n",
    "        return res\n",
    "\n",
    "    def __forward_or_backward__(self, isolation_interval: Tuple,\n",
    "                                containing_monotonic_sequence: Tuple):\n",
    "        \"\"\"Newton tiến or lùi?\n",
    "\n",
    "        Args:\n",
    "            isolation_interval (Tuple): Các khoảng phân ly nghiệm\n",
    "            containing_monotonic_sequence (Tuple): Khoảng đơn điệu\n",
    "\n",
    "        Returns:\n",
    "            [str]: tiến/lùi\n",
    "        \"\"\"\n",
    "        if containing_monotonic_sequence[1] - isolation_interval[\n",
    "                0] > isolation_interval[1] - containing_monotonic_sequence[0]:\n",
    "            return 'forward'\n",
    "        return 'backward'\n",
    "\n",
    "    def __fit_inverse_function__(self, X: Iterable, Y: Iterable, target: float):\n",
    "        \"\"\"Phương pháp dùng hàm ngược\n",
    "\n",
    "        Args:\n",
    "            X (Iterable): X\n",
    "            Y (Iterable): Y\n",
    "            target (float): Giá trị cần tính ngược\n",
    "\n",
    "        Returns:\n",
    "            (List): Tập nghiệm\n",
    "        \"\"\"\n",
    "        monotonic_seq = self.__get_monotonic_sequences__(Y=Y)\n",
    "        isolation_interval = self.__get_isolation_interval__(Y=Y, target=target)\n",
    "        containing_seq = self.__get_containing_monotonic_seq__(\n",
    "            monotonic_seq=monotonic_seq, isolation_interval=isolation_interval)\n",
    "\n",
    "        res = []\n",
    "        for seq in containing_seq.values():\n",
    "            self.interpolator.fit(X=Y[seq[0]:seq[1] + 1],\n",
    "                                  Y=X[seq[0]:seq[1] + 1])\n",
    "            res.append(self.interpolator.eval(target))\n",
    "        self.res = res\n",
    "        return res\n",
    "\n",
    "    def __fit_iterative__(self, X: Iterable, Y: Iterable, target: float):\n",
    "        \"\"\"Phương pháp lặp\n",
    "\n",
    "        Args:\n",
    "            X (Iterable): X\n",
    "            Y (Iterable): Y\n",
    "            target (float): Giá trị cần tính\n",
    "\n",
    "        Returns:\n",
    "            [List]: Tập nghiệm\n",
    "        \"\"\"\n",
    "        h = X[1] - X[0]\n",
    "\n",
    "        monotonic_seq = self.__get_monotonic_sequences__(Y=Y)\n",
    "        isolation_interval = self.__get_isolation_interval__(Y=Y, target=target)\n",
    "        containing_seq = self.__get_containing_monotonic_seq__(\n",
    "            monotonic_seq=monotonic_seq, isolation_interval=isolation_interval)\n",
    "        \"\"\"Note nhẹ\n",
    "        \"\"\"\n",
    "        output = []\n",
    "        print(containing_seq)\n",
    "        for case in containing_seq.items():\n",
    "            interval = case[0]\n",
    "            seq = case[1]\n",
    "            method = self.__forward_or_backward__(\n",
    "                isolation_interval=interval, containing_monotonic_sequence=seq)\n",
    "\n",
    "            if method == 'forward':\n",
    "                x = X[interval[0]:seq[1] + 1]\n",
    "                y = Y[interval[0]:seq[1] + 1]\n",
    "                u = (target - y[0]) / h\n",
    "                self.interpolator.fit(X=x, Y=y, method=method)\n",
    "                term_list = self.interpolator.term_list\n",
    "                phi_u = sum(term_list) - term_list[1]\n",
    "                phi_u = target - y[0] - phi_u/h\n",
    "                for ite in range(self.config['max_ite']):\n",
    "                    u_old = u\n",
    "                    u = phi_u.subs({\"x\": u})\n",
    "                    tol = np.abs(u - u_old)\n",
    "                    if tol < float(self.config['tolerance']):\n",
    "                        break\n",
    "                x = x[0] + u*h\n",
    "                output.append({\n",
    "                    'root': x,\n",
    "                    'iteration': ite + 1,\n",
    "                    'tol': tol,\n",
    "                    'isConvergence': bool(tol < 1e-4)\n",
    "                })\n",
    "\n",
    "            elif method == 'backward':\n",
    "                x = X[seq[0]:interval[1] + 1]\n",
    "                y = Y[seq[0]:interval[1] + 1]\n",
    "                u = (target - y[-1]) / h\n",
    "                self.interpolator.fit(X=x, Y=y, method=method)\n",
    "                term_list = self.interpolator.term_list\n",
    "                phi_u = sum(term_list) - term_list[1]\n",
    "                phi_u = target - y[-1] - phi_u/h\n",
    "\n",
    "                for ite in range(self.config['max_ite']):\n",
    "                    u_old = u\n",
    "                    u = phi_u.subs({\"x\": u})\n",
    "                    tol = np.abs(u - u_old)\n",
    "                    if tol < float(self.config['tolerance']):\n",
    "                        break\n",
    "                x = x[-1] + u*h\n",
    "                output.append({\n",
    "                    'root': u,\n",
    "                    'iteration': ite + 1,\n",
    "                    'tol': tol,\n",
    "                    'isConvergence': bool(tol < 1e-4)\n",
    "                })\n",
    "\n",
    "        return output\n",
    "\n",
    "    def fit(self, X: Iterable, Y: Iterable, target: float):\n",
    "        assert len(X) == len(Y)\n",
    "\n",
    "        monotonic_seq = self.__get_monotonic_sequences__(Y=Y)\n",
    "        isolation_intervals = self.__get_isolation_interval__(Y=Y)\n",
    "\n",
    "        containing_seq = self.__get_containing_monotonic_seq__(\n",
    "            monotonic_seq=monotonic_seq, isolation_interval=isolation_intervals)\n",
    "\n",
    "        res = 0\n",
    "        # Statements here\n",
    "        self.res = res\n",
    "        return res\n",
    "\n",
    "    def eval(self, val):\n",
    "        return self.res.subs({'x': val})\n"
   ]
  },
  {
   "cell_type": "code",
   "execution_count": 377,
   "metadata": {},
   "outputs": [],
   "source": [
    "config = {\n",
    "    \"method\": \"iterative\",\n",
    "    \"inverse_function\": {\n",
    "        \"type\": \"lagrange\"\n",
    "    },\n",
    "    \"iterative\": {\n",
    "        \"type\": \"auto\",\n",
    "        \"max_ite\": 100,\n",
    "        \"tolerance\": 0.000001\n",
    "    }\n",
    "}"
   ]
  },
  {
   "cell_type": "code",
   "execution_count": 41,
   "metadata": {},
   "outputs": [],
   "source": [
    "client = InverseInterpolation(config)"
   ]
  },
  {
   "cell_type": "code",
   "execution_count": 42,
   "metadata": {},
   "outputs": [],
   "source": [
    "x = np.array([1,2,3,4,5,6,7])/4\n",
    "y = x**3  - x**2 - 1"
   ]
  },
  {
   "cell_type": "code",
   "execution_count": 43,
   "metadata": {},
   "outputs": [
    {
     "name": "stdout",
     "output_type": "stream",
     "text": [
      "Forward\n",
      "Forward\n"
     ]
    },
    {
     "data": {
      "text/plain": [
       "<matplotlib.collections.PathCollection at 0x7f595e8e3b50>"
      ]
     },
     "execution_count": 377,
     "metadata": {},
     "output_type": "execute_result"
    }
   ],
   "source": [
    "fig = go.Figure()\n",
    "\n",
    "fig.add_trace(\n",
    "    go.Scatter(x=x, y=y)\n",
    ")\n",
    "\n",
    "fig.write_image(\"poly_xy.png\")"
   ]
  },
  {
   "cell_type": "code",
   "execution_count": 44,
   "metadata": {},
   "outputs": [],
   "source": [
    "target = -0.5"
   ]
  },
  {
   "cell_type": "code",
   "execution_count": 45,
   "metadata": {},
   "outputs": [
    {
     "data": {
      "image/png": "[encoded data removed]",
      "text/plain": [
       "<Figure size 432x288 with 1 Axes>"
      ]
     },
     "metadata": {
      "needs_background": "light"
     },
     "output_type": "display_data"
    }
   ],
   "source": [
    "print(client.__fit_inverse_function__(x, y, target))\n",
    "print(client.__fit_iterative__(x, y, target, 'backward'))\n",
    "print(client.__fit_iterative__(x, y, target))"
   ]
  },
  {
   "cell_type": "code",
   "execution_count": 378,
   "metadata": {},
   "outputs": [
    {
     "data": {
      "text/plain": [
       "{'method': 'iterative',\n",
       " 'inverse_function': {'type': 'lagrange'},\n",
       " 'iterative': {'type': 'auto', 'max_ite': 100, 'tolerance': '1e-6'}}"
      ]
     },
     "execution_count": 378,
     "metadata": {},
     "output_type": "execute_result"
    }
   ],
   "source": [
    "import matplotlib.pyplot as plt\n",
    "import numpy as np\n",
    "\n",
    "from utils.helpers import load_config\n",
    "\n",
    "config = load_config('config.yml')\n",
    "config"
   ]
  },
  {
   "cell_type": "code",
   "execution_count": 379,
   "metadata": {},
   "outputs": [],
   "source": [
    "target = 4.5"
   ]
  },
  {
   "cell_type": "code",
   "execution_count": 380,
   "metadata": {},
   "outputs": [
    {
     "name": "stdout",
     "output_type": "stream",
     "text": [
      "{(2, 3): (0, 5), (6, 7): (5, 9)}\n",
      "-1.41666666666667*x - 0.354166666666667\n",
      "-17.8645833333333*(x + 0.138888888888889)*(x + 0.194444444444444)*(x + 0.25) - 4.68055555555555*(x + 0.194444444444444)*(x + 0.25) - 18.0074768518532\n",
      "0.0153677983539095 - 0.184413580246914*x\n",
      "-17.9999999999973*(x - 0.194444444444444)*(x - 0.138888888888889)*(x - 0.0833333333333333) + 10.4999999999998*(x - 0.138888888888889)*(x - 0.0833333333333333) - 17.8940509259259\n"
     ]
    },
    {
     "data": {
      "text/plain": [
       "[{'root': 5.00912918709353e+322175111801781151797147740875412035165636017771,\n",
       "  'iteration': 100,\n",
       "  'tol': 5.00912918709353e+322175111801781151797147740875412035165636017771,\n",
       "  'isConvergence': False},\n",
       " {'root': 5.56805109781082e+319393809493912665084209857242650847239252717733,\n",
       "  'iteration': 100,\n",
       "  'tol': 1.00224919760595e+319393809493912665084209857242650847239252717735,\n",
       "  'isConvergence': False}]"
      ]
     },
     "execution_count": 380,
     "metadata": {},
     "output_type": "execute_result"
    }
   ],
   "source": [
    "client.__fit_iterative__(observations, references, val)"
   ]
  },
  {
   "cell_type": "code",
   "execution_count": null,
   "metadata": {},
   "outputs": [],
   "source": []
  }
 ],
 "metadata": {
  "interpreter": {
   "hash": "05c950c2b21730c3918e76f8461d4d164a94452cdcd9f5dd4be39da6688be54f"
  },
  "kernelspec": {
   "display_name": "Python 3.9.5 64-bit ('deepLearning': conda)",
   "language": "python",
   "name": "python3"
  },
  "language_info": {
   "codemirror_mode": {
    "name": "ipython",
    "version": 3
   },
   "file_extension": ".py",
   "mimetype": "text/x-python",
   "name": "python",
   "nbconvert_exporter": "python",
   "pygments_lexer": "ipython3",
   "version": "3.9.7"
  },
  "orig_nbformat": 4
 },
 "nbformat": 4,
 "nbformat_minor": 2
}
