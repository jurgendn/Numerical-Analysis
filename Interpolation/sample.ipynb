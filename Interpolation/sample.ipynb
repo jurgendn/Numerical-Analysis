{
 "cells": [
  {
   "cell_type": "code",
   "execution_count": 3,
   "metadata": {},
   "outputs": [],
   "source": [
    "import operator\n",
    "from functools import reduce\n",
    "from itertools import product, starmap\n",
    "from typing import Dict, Iterable, Tuple\n",
    "\n",
    "import matplotlib.pyplot as plt\n",
    "import numpy as np\n",
    "import plotly.graph_objects as go\n",
    "import sympy as sy\n",
    "\n",
    "from utils.helpers import load_config\n"
   ]
  },
  {
   "cell_type": "code",
   "execution_count": 4,
   "metadata": {},
   "outputs": [
    {
     "data": {
      "text/plain": [
       "<matplotlib.collections.PathCollection at 0x7f89b5258670>"
      ]
     },
     "execution_count": 4,
     "metadata": {},
     "output_type": "execute_result"
    },
    {
     "data": {
      "image/png": "[encoded data removed]",
      "text/plain": [
       "<Figure size 432x288 with 1 Axes>"
      ]
     },
     "metadata": {
      "needs_background": "light"
     },
     "output_type": "display_data"
    }
   ],
   "source": [
    "observations = np.linspace(-0.25, 0.25, 11)\n",
    "references = observations**3 - observations**2 + 1\n",
    "val = 0.985\n",
    "plt.plot(observations, references)\n",
    "plt.scatter(observations, references)"
   ]
  },
  {
   "cell_type": "code",
   "execution_count": 37,
   "metadata": {},
   "outputs": [],
   "source": [
    "class LagrangeInterpolation:\n",
    "\n",
    "    def __init__(self) -> None:\n",
    "        pass\n",
    "\n",
    "    def fit(self, X: Iterable, Y: Iterable):\n",
    "        assert len(X) == len(Y)\n",
    "\n",
    "        x_var = sy.Symbol('x')\n",
    "\n",
    "        res = 0\n",
    "        for idx, (obs, ref) in enumerate(zip(X, Y)):\n",
    "            _rest = list(X[:idx]) + list(X[idx + 1:])\n",
    "\n",
    "            __denom_coef = list(product([obs], _rest))\n",
    "            __denom = list(\n",
    "                starmap(lambda *s: sy.Rational(s[0] - s[1]), __denom_coef))\n",
    "            __denom = reduce(operator.mul, __denom)\n",
    "\n",
    "            __nom_coef = list(product([x_var], _rest))\n",
    "            __nom = list(starmap(lambda *s: s[0] - s[1], __nom_coef))\n",
    "            __nom = reduce(operator.mul, __nom)\n",
    "            coef = ref / __denom\n",
    "            res += __nom * coef\n",
    "        self.res = res\n",
    "        return res\n",
    "\n",
    "    def eval(self, val):\n",
    "        return self.res.subs({'x': val})"
   ]
  },
  {
   "cell_type": "code",
   "execution_count": 38,
   "metadata": {},
   "outputs": [],
   "source": [
    "class NewtonInterpolation:\n",
    "\n",
    "    def __init__(self):\n",
    "        pass\n",
    "\n",
    "    def __get_divided_differential__(self, X: Iterable, Y: Iterable):\n",
    "        num_obs = len(X)\n",
    "        res = np.zeros(shape=(num_obs, num_obs))\n",
    "\n",
    "        res[:, 0] = Y\n",
    "        for id_y in range(1, num_obs):\n",
    "            for id_x in range(0, num_obs - id_y):\n",
    "                differential = res[id_x + 1][id_y - 1] - res[id_x][id_y - 1]\n",
    "                divided = X[id_x + id_y] - X[id_x]\n",
    "                res[id_x][id_y] = differential / divided\n",
    "        return res\n",
    "\n",
    "    def fit(self, X: Iterable, Y: Iterable, method: str = 'forward'):\n",
    "        assert len(X) == len(Y)\n",
    "\n",
    "        x_var = sy.Symbol('x')\n",
    "\n",
    "        divided_differential = self.__get_divided_differential__(X=X, Y=Y)\n",
    "\n",
    "        res = 0\n",
    "        term_list = []\n",
    "        term = 1\n",
    "\n",
    "        if method == 'forward':\n",
    "            r = divided_differential[0]\n",
    "        elif method == 'backward':\n",
    "            r = np.fliplr(divided_differential).diagonal()\n",
    "\n",
    "        for _, (obs, coef) in enumerate(zip(X, r)):\n",
    "            res += coef * term\n",
    "            term_list.append(coef * term)\n",
    "            term *= (x_var - obs)\n",
    "        self.res = res\n",
    "        self.term_list = term_list\n",
    "        return res\n",
    "\n",
    "    def add_points(self, X: Iterable, Y: Iterable):\n",
    "        pass\n",
    "\n",
    "    def eval(self, val):\n",
    "        return self.res.subs({'x': val})\n"
   ]
  },
  {
   "cell_type": "code",
   "execution_count": 39,
   "metadata": {},
   "outputs": [],
   "source": [
    "class InverseInterpolation:\n",
    "\n",
    "    def __init__(self, config: Dict) -> None:\n",
    "        self.method = config['method']\n",
    "        self.config = config[self.method]\n",
    "        if config.get('method', False) == 'inverse_function':\n",
    "            if config['inverse_function']['type'] == 'lagrange':\n",
    "                self.interpolator = LagrangeInterpolation()\n",
    "            elif config['inverse_function']['type'] == 'newton':\n",
    "                self.interpolator = NewtonInterpolation()\n",
    "        elif config.get('method', False) == 'iterative':\n",
    "            self.interpolator = LagrangeInterpolation()\n",
    "\n",
    "    def __get_monotonic_sequences__(self, Y: Iterable):\n",
    "        \"\"\"Xác định các chuỗi đơn điệu\n",
    "\n",
    "        Args:\n",
    "            Y (Iterable): Y\n",
    "\n",
    "        Returns:\n",
    "            [List[Tuple]]: Các khoảng đơn điệu, gồm điểm đầu và điểm cuối\n",
    "        \"\"\"\n",
    "        indices = [0]\n",
    "        diff = np.diff(Y)\n",
    "        for idx in range(1, len(diff)):\n",
    "            if diff[idx - 1] * diff[idx] < 0:\n",
    "                indices.append(idx)\n",
    "        indices.append(len(diff))\n",
    "        return list(zip(indices, indices[1:]))\n",
    "\n",
    "    def __get_isolation_interval__(self, Y: Iterable, target: float):\n",
    "        \"\"\"Tìm khoảng phân ly nghiệm\n",
    "\n",
    "        Args:\n",
    "            Y (Iterable): Y\n",
    "            target (float): Giá trị cần tính\n",
    "\n",
    "        Returns:\n",
    "            [List[Tuple]]: Tập các khoảng phân ly nghiệm\n",
    "        \"\"\"\n",
    "        indices = []\n",
    "        diff = list(map(lambda ref: target - ref, Y))\n",
    "        for index in range(1, len(Y)):\n",
    "            if diff[index - 1] * diff[index] < 0:\n",
    "                indices.append((index - 1, index))\n",
    "        return indices\n",
    "\n",
    "    def __get_divided_differential__(self, X: Iterable, Y: Iterable):\n",
    "        \"\"\"Bảng tỉ hiệu\n",
    "        \"\"\"\n",
    "        num_obs = len(X)\n",
    "        res = np.zeros(shape=(num_obs, num_obs))\n",
    "\n",
    "        res[:, 0] = Y\n",
    "        for id_y in range(1, num_obs):\n",
    "            for id_x in range(0, num_obs - id_y):\n",
    "                differential = res[id_x + 1][id_y - 1] - res[id_x][id_y - 1]\n",
    "                divided = X[id_x + id_y] - X[id_x]\n",
    "                res[id_x][id_y] = differential / divided\n",
    "        return res\n",
    "\n",
    "    def __get_containing_monotonic_seq__(self, monotonic_seq: Iterable,\n",
    "                                         isolation_interval: Iterable):\n",
    "        \"\"\"Xác định khoảng đơn điệu chứa khoảng phân ly nghiệm\n",
    "\n",
    "        Args:\n",
    "            monotonic_seq (Iterable): Các khoảng đơn điệu\n",
    "            isolation_interval (Iterable): Các khoảng phân ly nghiệm\n",
    "\n",
    "        Returns:\n",
    "            [Dict]: {Khoảng phân ly: Khoảng chứa}\n",
    "        \"\"\"\n",
    "        res = {}\n",
    "        for interval in isolation_interval:\n",
    "            out = list(\n",
    "                filter(\n",
    "                    lambda s: (interval[0] - s[0]) * (interval[1] - s[1]) <= 0,\n",
    "                    monotonic_seq))[0]\n",
    "            res[interval] = out\n",
    "        return res\n",
    "\n",
    "    def __forward_or_backward__(self, Y: Iterable, isolation_interval: Tuple):\n",
    "        \"\"\"Newton tiến or lùi?\n",
    "\n",
    "        Args:\n",
    "            isolation_interval (Tuple): Các khoảng phân ly nghiệm\n",
    "\n",
    "        Returns:\n",
    "            [str]: tiến/lùi\n",
    "        \"\"\"\n",
    "        if isolation_interval[1] + 1 < len(Y) - isolation_interval[0] + 1:\n",
    "            return 'forward'\n",
    "        return 'backward'\n",
    "\n",
    "    def __fit_inverse_function__(self, X: Iterable, Y: Iterable, target: float):\n",
    "        \"\"\"Phương pháp dùng hàm ngược\n",
    "\n",
    "        Args:\n",
    "            X (Iterable): X\n",
    "            Y (Iterable): Y\n",
    "            target (float): Giá trị cần tính ngược\n",
    "\n",
    "        Returns:\n",
    "            (List): Tập nghiệm\n",
    "        \"\"\"\n",
    "        monotonic_seq = self.__get_monotonic_sequences__(Y=Y)\n",
    "        isolation_interval = self.__get_isolation_interval__(Y=Y, target=target)\n",
    "        containing_seq = self.__get_containing_monotonic_seq__(\n",
    "            monotonic_seq=monotonic_seq, isolation_interval=isolation_interval)\n",
    "\n",
    "        res = []\n",
    "        for seq in containing_seq.values():\n",
    "            self.interpolator.fit(X=Y[seq[0]:seq[1] + 1],\n",
    "                                  Y=X[seq[0]:seq[1] + 1])\n",
    "            res.append(self.interpolator.eval(target))\n",
    "        self.res = res\n",
    "        return res\n",
    "\n",
    "    def __fit_iterative__(self,\n",
    "                          X: Iterable,\n",
    "                          Y: Iterable,\n",
    "                          target: float,\n",
    "                          method: str = 'auto'):\n",
    "        \"\"\"Phương pháp lặp\n",
    "\n",
    "        Args:\n",
    "            X (Iterable): X\n",
    "            Y (Iterable): Y\n",
    "            target (float): Giá trị cần tính\n",
    "\n",
    "        Returns:\n",
    "            [List]: Tập nghiệm\n",
    "        \"\"\"\n",
    "        h = np.diff(X)[0]\n",
    "\n",
    "        def get_function(Y: Iterable,\n",
    "                         ref: float,\n",
    "                         val: float,\n",
    "                         method: str = 'forward'):\n",
    "            max_order = len(Y) - 1\n",
    "            if method == 'forward':\n",
    "                base_list = list(range(0, max_order))\n",
    "            else:\n",
    "                base_list = np.flip(list(range(-max_order + 1, 1)))\n",
    "            pos = 0 if method == 'forward' else -1\n",
    "            res = ref - Y[pos]\n",
    "            denom = 1\n",
    "            nume = (val - base_list[0]) * (val - base_list[1])\n",
    "            for order in range(2, max_order):\n",
    "                nume *= (val - base_list[order])\n",
    "                denom *= order\n",
    "                res -= np.diff(Y, order)[pos] * nume / denom\n",
    "            return res / np.diff(Y, 1)[pos]\n",
    "\n",
    "        isolation_interval = self.__get_isolation_interval__(Y=Y, target=target)\n",
    "        \"\"\"Note nhẹ\n",
    "        \"\"\"\n",
    "        output = []\n",
    "        for interval in isolation_interval:\n",
    "            if method == 'auto':\n",
    "                method = self.__forward_or_backward__(\n",
    "                    Y, isolation_interval=interval)\n",
    "            if method == 'forward':\n",
    "                x = X[interval[0]:]\n",
    "                y = Y[interval[0]:]\n",
    "                u = (target - y[0]) / np.diff(Y, 1)[0]\n",
    "                print('Forward')\n",
    "                for ite in range(self.config['max_ite']):\n",
    "                    u_old = u\n",
    "                    u = get_function(y, val, u, method)\n",
    "                    tol = np.abs(u - u_old)\n",
    "                    if tol < float(self.config['tolerance']):\n",
    "                        break\n",
    "                root = x[0] + u*h\n",
    "                output.append({\n",
    "                    'root': root,\n",
    "                    'iteration': ite + 1,\n",
    "                    'tol': tol,\n",
    "                    'isConvergence': bool(tol < 1e-4)\n",
    "                })\n",
    "\n",
    "            elif method == 'backward':\n",
    "                x = X[:interval[1] + 1]\n",
    "                y = Y[:interval[1] + 1]\n",
    "                u = (target - y[-1]) / np.diff(Y, 1)[-1]\n",
    "                print('Backward')\n",
    "                for ite in range(self.config['max_ite']):\n",
    "                    u_old = u\n",
    "                    u = get_function(y, val, u, method)\n",
    "                    tol = np.abs(u - u_old)\n",
    "                    if tol < float(self.config['tolerance']):\n",
    "                        break\n",
    "                root = x[-1] + u*h\n",
    "                output.append({\n",
    "                    'root': root,\n",
    "                    'iteration': ite + 1,\n",
    "                    'tol': tol,\n",
    "                    'isConvergence': bool(tol < 1e-4)\n",
    "                })\n",
    "\n",
    "        return output\n",
    "\n",
    "    def fit(self, X: Iterable, Y: Iterable, target: float):\n",
    "        assert len(X) == len(Y)\n",
    "\n",
    "        monotonic_seq = self.__get_monotonic_sequences__(Y=Y)\n",
    "        isolation_intervals = self.__get_isolation_interval__(Y=Y)\n",
    "\n",
    "        containing_seq = self.__get_containing_monotonic_seq__(\n",
    "            monotonic_seq=monotonic_seq, isolation_interval=isolation_intervals)\n",
    "\n",
    "        res = 0\n",
    "        # Statements here\n",
    "        self.res = res\n",
    "        return res\n",
    "\n",
    "    def eval(self, val):\n",
    "        return self.res.subs({'x': val})\n"
   ]
  },
  {
   "cell_type": "code",
   "execution_count": 40,
   "metadata": {},
   "outputs": [],
   "source": [
    "config = {\n",
    "    \"method\": \"iterative\",\n",
    "    \"inverse_function\": {\n",
    "        \"type\": \"lagrange\"\n",
    "    },\n",
    "    \"iterative\": {\n",
    "        \"type\": \"auto\",\n",
    "        \"max_ite\": 100,\n",
    "        \"tolerance\": 0.000001\n",
    "    }\n",
    "}"
   ]
  },
  {
   "cell_type": "code",
   "execution_count": 41,
   "metadata": {},
   "outputs": [],
   "source": [
    "client = InverseInterpolation(config)"
   ]
  },
  {
   "cell_type": "code",
   "execution_count": 42,
   "metadata": {},
   "outputs": [],
   "source": [
    "x = np.array([1,2,3,4,5,6,7])/4\n",
    "y = x**3  - x**2 - 1"
   ]
  },
  {
   "cell_type": "code",
   "execution_count": 43,
   "metadata": {},
   "outputs": [
    {
     "name": "stdout",
     "output_type": "stream",
     "text": [
      "Forward\n",
      "Forward\n"
     ]
    },
    {
     "data": {
      "text/plain": [
       "[{'root': -0.1109693279996872,\n",
       "  'iteration': 9,\n",
       "  'tol': 7.680881881633184e-07,\n",
       "  'isConvergence': True},\n",
       " {'root': 0.12717593781166284,\n",
       "  'iteration': 7,\n",
       "  'tol': 5.6558014716046046e-08,\n",
       "  'isConvergence': True}]"
      ]
     },
     "execution_count": 43,
     "metadata": {},
     "output_type": "execute_result"
    }
   ],
   "source": [
    "fig = go.Figure()\n",
    "\n",
    "fig.add_trace(\n",
    "    go.Scatter(x=x, y=y)\n",
    ")\n",
    "\n",
    "fig.write_image(\"poly_xy.png\")"
   ]
  },
  {
   "cell_type": "code",
   "execution_count": 44,
   "metadata": {},
   "outputs": [],
   "source": [
    "target = -0.5"
   ]
  },
  {
   "cell_type": "code",
   "execution_count": 45,
   "metadata": {},
   "outputs": [
    {
     "name": "stdout",
     "output_type": "stream",
     "text": [
      "[1.26732022120034]\n",
      "Backward\n",
      "[{'root': 1.1945714452637495, 'iteration': 100, 'tol': 2.3440037613008826, 'isConvergence': False}]\n",
      "Backward\n",
      "[{'root': 1.1945714452637495, 'iteration': 100, 'tol': 2.3440037613008826, 'isConvergence': False}]\n"
     ]
    }
   ],
   "source": [
    "print(client.__fit_inverse_function__(x, y, target))\n",
    "print(client.__fit_iterative__(x, y, target, 'backward'))\n",
    "print(client.__fit_iterative__(x, y, target))"
   ]
  },
  {
   "cell_type": "code",
   "execution_count": 46,
   "metadata": {},
   "outputs": [
    {
     "data": {
      "text/plain": [
       "array([2.75, 3.5 , 4.25, 5.  , 5.75, 6.5 , 7.25])"
      ]
     },
     "execution_count": 46,
     "metadata": {},
     "output_type": "execute_result"
    }
   ],
   "source": [
    "y = 3*x + 2\n",
    "y"
   ]
  },
  {
   "cell_type": "code",
   "execution_count": 47,
   "metadata": {},
   "outputs": [],
   "source": [
    "fig = go.Figure()\n",
    "\n",
    "fig.add_trace(\n",
    "    go.Scatter(x=x, y=y)\n",
    ")\n",
    "\n",
    "fig.write_image(\"linear_xy.png\")"
   ]
  },
  {
   "cell_type": "code",
   "execution_count": 48,
   "metadata": {},
   "outputs": [],
   "source": [
    "target = 4.5"
   ]
  },
  {
   "cell_type": "code",
   "execution_count": 49,
   "metadata": {},
   "outputs": [
    {
     "name": "stdout",
     "output_type": "stream",
     "text": [
      "[0.833333333333333]\n",
      "Forward\n",
      "[{'root': -0.3383333333333334, 'iteration': 2, 'tol': 0.0, 'isConvergence': True}]\n",
      "Backward\n",
      "[{'root': -0.33833333333333315, 'iteration': 2, 'tol': 0.0, 'isConvergence': True}]\n"
     ]
    }
   ],
   "source": [
    "print(client.__fit_inverse_function__(x, y, target))\n",
    "print(client.__fit_iterative__(x, y, target, 'forward'))\n",
    "print(client.__fit_iterative__(x, y, target, 'backward'))"
   ]
  },
  {
   "cell_type": "code",
   "execution_count": null,
   "metadata": {},
   "outputs": [],
   "source": []
  }
 ],
 "metadata": {
  "interpreter": {
   "hash": "05c950c2b21730c3918e76f8461d4d164a94452cdcd9f5dd4be39da6688be54f"
  },
  "kernelspec": {
   "display_name": "Python 3.9.5 64-bit ('deepLearning': conda)",
   "language": "python",
   "name": "python3"
  },
  "language_info": {
   "codemirror_mode": {
    "name": "ipython",
    "version": 3
   },
   "file_extension": ".py",
   "mimetype": "text/x-python",
   "name": "python",
   "nbconvert_exporter": "python",
   "pygments_lexer": "ipython3",
   "version": "3.9.5"
  },
  "orig_nbformat": 4
 },
 "nbformat": 4,
 "nbformat_minor": 2
}
