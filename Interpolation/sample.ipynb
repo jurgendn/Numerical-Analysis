{
 "cells": [
  {
   "cell_type": "code",
<<<<<<< HEAD
   "execution_count": 243,
   "metadata": {},
   "outputs": [],
   "source": [
    "from functools import reduce\n",
    "from operator import mul\n",
    "from typing import Dict, Iterable, Tuple\n",
    "\n",
    "import matplotlib.pyplot as plt\n",
    "import numpy as np\n",
    "import plotly.graph_objects as go\n",
    "\n",
    "from module import LagrangeInterpolation\n",
    "from utils.helpers import load_config\n"
   ]
  },
  {
   "cell_type": "code",
   "execution_count": 208,
   "metadata": {},
   "outputs": [
    {
     "data": {
      "text/plain": [
       "<matplotlib.collections.PathCollection at 0x7f862c042f70>"
      ]
     },
     "execution_count": 208,
     "metadata": {},
     "output_type": "execute_result"
    },
    {
     "data": {
      "image/png": "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",
      "text/plain": [
       "<Figure size 432x288 with 1 Axes>"
      ]
     },
     "metadata": {
      "needs_background": "light"
     },
     "output_type": "display_data"
    }
   ],
   "source": [
    "observations = np.linspace(-0.25, 0.25, 11)\n",
    "references = observations**3 - observations**2 + 1\n",
    "val = 0.985\n",
    "plt.plot(observations, references)\n",
    "plt.scatter(observations, references)"
=======
   "execution_count": 5,
   "metadata": {},
   "outputs": [],
   "source": [
    "import matplotlib.pyplot as plt\n",
    "import numpy as np\n",
    "\n",
    "from inverse_interpolation import InverseInterpolation\n",
    "from utils.helpers import load_config"
>>>>>>> 456be7bbe2b3d6ec3e4c8ad48db1588357483382
   ]
  },
  {
   "cell_type": "code",
<<<<<<< HEAD
   "execution_count": 244,
=======
   "execution_count": 6,
>>>>>>> 456be7bbe2b3d6ec3e4c8ad48db1588357483382
   "metadata": {},
   "outputs": [
    {
     "data": {
      "text/plain": [
       "{'method': 'iterative',\n",
       " 'inverse_function': {'type': 'lagrange'},\n",
       " 'iterative': {'type': 'auto', 'max_ite': 100, 'tolerance': '1e-6'}}"
      ]
     },
     "execution_count": 6,
     "metadata": {},
     "output_type": "execute_result"
    }
   ],
   "source": [
<<<<<<< HEAD
    "class InverseInterpolation:\n",
    "\n",
    "    def __init__(self, config: Dict) -> None:\n",
    "        self.method = config['method']\n",
    "        self.config = config[self.method]\n",
    "        if config.get('method', False) == 'inverse_function':\n",
    "            if config['inverse_function']['type'] == 'lagrange':\n",
    "                self.interpolator = LagrangeInterpolation()\n",
    "            elif config['inverse_function']['type'] == 'newton':\n",
    "                self.interpolator = NewtonInterpolation()\n",
    "        elif config.get('method', False) == 'iterative':\n",
    "            self.interpolator = NewtonInterpolation()\n",
    "\n",
    "    def __get_monotonic_sequences__(self, Y: Iterable):\n",
    "        \"\"\"Xác định các chuỗi đơn điệu\n",
    "\n",
    "        Args:\n",
    "            Y (Iterable): Y\n",
    "\n",
    "        Returns:\n",
    "            [List[Tuple]]: Các khoảng đơn điệu, gồm điểm đầu và điểm cuối\n",
    "        \"\"\"\n",
    "        indices = [0]\n",
    "        diff = np.diff(Y)\n",
    "        for idx in range(1, len(diff)):\n",
    "            if diff[idx - 1] * diff[idx] < 0:\n",
    "                indices.append(idx)\n",
    "        indices.append(len(diff))\n",
    "        return list(zip(indices, indices[1:]))\n",
    "\n",
    "    def __get_isolation_interval__(self, Y: Iterable, target: float):\n",
    "        \"\"\"Tìm khoảng phân ly nghiệm\n",
    "\n",
    "        Args:\n",
    "            Y (Iterable): Y\n",
    "            target (float): Giá trị cần tính\n",
    "\n",
    "        Returns:\n",
    "            [List[Tuple]]: Tập các khoảng phân ly nghiệm\n",
    "        \"\"\"\n",
    "        indices = []\n",
    "        diff = list(map(lambda ref: target - ref, Y))\n",
    "        for index in range(1, len(Y)):\n",
    "            if diff[index - 1] * diff[index] < 0:\n",
    "                indices.append((index - 1, index))\n",
    "        return indices\n",
    "\n",
    "    def __get_divided_differential__(self, X: Iterable, Y: Iterable):\n",
    "        \"\"\"Bảng tỉ hiệu\n",
    "        \"\"\"\n",
    "        num_obs = len(X)\n",
    "        res = np.zeros(shape=(num_obs, num_obs))\n",
    "\n",
    "        res[:, 0] = Y\n",
    "        for id_y in range(1, num_obs):\n",
    "            for id_x in range(0, num_obs - id_y):\n",
    "                differential = res[id_x + 1][id_y - 1] - res[id_x][id_y - 1]\n",
    "                divided = X[id_x + id_y] - X[id_x]\n",
    "                res[id_x][id_y] = differential / divided\n",
    "        return res\n",
    "\n",
    "    def __get_containing_monotonic_seq__(self, monotonic_seq: Iterable,\n",
    "                                         isolation_interval: Iterable):\n",
    "        \"\"\"Xác định khoảng đơn điệu chứa khoảng phân ly nghiệm\n",
    "\n",
    "        Args:\n",
    "            monotonic_seq (Iterable): Các khoảng đơn điệu\n",
    "            isolation_interval (Iterable): Các khoảng phân ly nghiệm\n",
    "\n",
    "        Returns:\n",
    "            [Dict]: {Khoảng phân ly: Khoảng chứa}\n",
    "        \"\"\"\n",
    "        res = {}\n",
    "        for interval in isolation_interval:\n",
    "            out = list(\n",
    "                filter(\n",
    "                    lambda s: (interval[0] - s[0]) * (interval[1] - s[1]) <= 0,\n",
    "                    monotonic_seq))[0]\n",
    "            res[interval] = out\n",
    "        return res\n",
    "\n",
    "    def __forward_or_backward__(self, Y: Iterable, isolation_interval: Tuple):\n",
    "        \"\"\"Newton tiến or lùi?\n",
    "\n",
    "        Args:\n",
    "            isolation_interval (Tuple): Các khoảng phân ly nghiệm\n",
    "\n",
    "        Returns:\n",
    "            [str]: tiến/lùi\n",
    "        \"\"\"\n",
    "        if isolation_interval[1] + 1 < len(Y) - isolation_interval[0] + 1:\n",
    "            return 'forward'\n",
    "        return 'backward'\n",
    "\n",
    "    def __fit_inverse_function__(self, X: Iterable, Y: Iterable, target: float):\n",
    "        \"\"\"Phương pháp dùng hàm ngược\n",
    "\n",
    "        Args:\n",
    "            X (Iterable): X\n",
    "            Y (Iterable): Y\n",
    "            target (float): Giá trị cần tính ngược\n",
    "\n",
    "        Returns:\n",
    "            (List): Tập nghiệm\n",
    "        \"\"\"\n",
    "        monotonic_seq = self.__get_monotonic_sequences__(Y=Y)\n",
    "        isolation_interval = self.__get_isolation_interval__(Y=Y, target=target)\n",
    "        containing_seq = self.__get_containing_monotonic_seq__(\n",
    "            monotonic_seq=monotonic_seq, isolation_interval=isolation_interval)\n",
    "\n",
    "        res = []\n",
    "        for seq in containing_seq.values():\n",
    "            self.interpolator.fit(X=Y[seq[0]:seq[1] + 1],\n",
    "                                  Y=X[seq[0]:seq[1] + 1])\n",
    "            res.append(self.interpolator.eval(target))\n",
    "        self.res = res\n",
    "        return res\n",
    "\n",
    "    def __fit_iterative__(self,\n",
    "                          X: Iterable,\n",
    "                          Y: Iterable,\n",
    "                          target: float,\n",
    "                          method: str = 'auto'):\n",
    "        \"\"\"Phương pháp lặp\n",
    "\n",
    "        Args:\n",
    "            X (Iterable): X\n",
    "            Y (Iterable): Y\n",
    "            target (float): Giá trị cần tính\n",
    "\n",
    "        Returns:\n",
    "            [List]: Tập nghiệm\n",
    "        \"\"\"\n",
    "        h = np.diff(X)[0]\n",
    "\n",
    "        def get_function(Y: Iterable,\n",
    "                         ref: float,\n",
    "                         val: float,\n",
    "                         method: str = 'forward'):\n",
    "            max_order = len(Y) - 1\n",
    "            if method == 'forward':\n",
    "                base_list = list(range(0, max_order))\n",
    "            else:\n",
    "                base_list = np.flip(list(range(-max_order + 1, 1)))\n",
    "            pos = 0 if method == 'forward' else -1\n",
    "            res = ref - Y[pos]\n",
    "            denom = 1\n",
    "            nume = (val - base_list[0]) * (val - base_list[1])\n",
    "            for order in range(2, max_order):\n",
    "                nume *= (val - base_list[order])\n",
    "                denom *= order\n",
    "                res -= np.diff(Y, order)[pos] * nume / denom\n",
    "            return res / np.diff(Y, 1)[pos]\n",
    "\n",
    "        isolation_interval = self.__get_isolation_interval__(Y=Y, target=target)\n",
    "        \"\"\"Note nhẹ\n",
    "        \"\"\"\n",
    "        output = []\n",
    "        for interval in isolation_interval:\n",
    "            if method == 'auto':\n",
    "                method = self.__forward_or_backward__(\n",
    "                    Y, isolation_interval=interval)\n",
    "            if method == 'forward':\n",
    "                x = X[interval[0]:]\n",
    "                y = Y[interval[0]:]\n",
    "                u = (target - y[0]) / np.diff(Y, 1)[0]\n",
    "                print('Forward')\n",
    "                for ite in range(self.config['max_ite']):\n",
    "                    u_old = u\n",
    "                    u = get_function(y, val, u, method)\n",
    "                    tol = np.abs(u - u_old)\n",
    "                    if tol < float(self.config['tolerance']):\n",
    "                        break\n",
    "                root = x[0] + u*h\n",
    "                output.append({\n",
    "                    'root': root,\n",
    "                    'iteration': ite + 1,\n",
    "                    'tol': tol,\n",
    "                    'isConvergence': bool(tol < 1e-4)\n",
    "                })\n",
    "\n",
    "            elif method == 'backward':\n",
    "                x = X[:interval[1] + 1]\n",
    "                y = Y[:interval[1] + 1]\n",
    "                u = (target - y[-1]) / np.diff(Y, 1)[-1]\n",
    "                print('Backward')\n",
    "                for ite in range(self.config['max_ite']):\n",
    "                    u_old = u\n",
    "                    u = get_function(y, val, u, method)\n",
    "                    tol = np.abs(u - u_old)\n",
    "                    if tol < float(self.config['tolerance']):\n",
    "                        break\n",
    "                root = x[-1] + u*h\n",
    "                output.append({\n",
    "                    'root': root,\n",
    "                    'iteration': ite + 1,\n",
    "                    'tol': tol,\n",
    "                    'isConvergence': bool(tol < 1e-4)\n",
    "                })\n",
    "\n",
    "        return output\n",
    "\n",
    "    def fit(self, X: Iterable, Y: Iterable, target: float):\n",
    "        assert len(X) == len(Y)\n",
    "\n",
    "        monotonic_seq = self.__get_monotonic_sequences__(Y=Y)\n",
    "        isolation_intervals = self.__get_isolation_interval__(Y=Y)\n",
    "\n",
    "        containing_seq = self.__get_containing_monotonic_seq__(\n",
    "            monotonic_seq=monotonic_seq, isolation_interval=isolation_intervals)\n",
    "\n",
    "        res = 0\n",
    "        # Statements here\n",
    "        self.res = res\n",
    "        return res\n",
    "\n",
    "    def eval(self, val):\n",
    "        return self.res.subs({'x': val})\n"
=======
    "config = load_config('config.yml')\n",
    "config"
>>>>>>> 456be7bbe2b3d6ec3e4c8ad48db1588357483382
   ]
  },
  {
   "cell_type": "code",
<<<<<<< HEAD
   "execution_count": 245,
   "metadata": {},
   "outputs": [],
   "source": [
    "config = load_config('config.yml')"
   ]
  },
  {
   "cell_type": "code",
   "execution_count": 246,
   "metadata": {},
   "outputs": [],
   "source": [
    "client = InverseInterpolation(config)"
   ]
  },
  {
   "cell_type": "code",
   "execution_count": 287,
   "metadata": {},
   "outputs": [],
   "source": [
    "x = np.array([1,2,3,4,5,6,7])/4\n",
    "y = x**3  - x**2 - 1"
   ]
  },
  {
   "cell_type": "code",
   "execution_count": 288,
=======
   "execution_count": 7,
>>>>>>> 456be7bbe2b3d6ec3e4c8ad48db1588357483382
   "metadata": {},
   "outputs": [
    {
     "data": {
      "text/plain": [
<<<<<<< HEAD
       "array([-1.046875, -1.125   , -1.140625, -1.      , -0.609375,  0.125   ,\n",
       "        1.296875])"
      ]
     },
     "execution_count": 288,
=======
       "<matplotlib.collections.PathCollection at 0x7fb214c58a30>"
      ]
     },
     "execution_count": 7,
>>>>>>> 456be7bbe2b3d6ec3e4c8ad48db1588357483382
     "metadata": {},
     "output_type": "execute_result"
    }
   ],
   "source": [
    "y"
   ]
  },
  {
   "cell_type": "code",
   "execution_count": 289,
   "metadata": {},
   "outputs": [],
   "source": [
    "fig = go.Figure()\n",
    "\n",
    "fig.add_trace(\n",
    "    go.Scatter(x=x, y=y)\n",
    ")\n",
    "\n",
    "fig.write_image(\"poly_xy.png\")"
   ]
  },
  {
   "cell_type": "code",
   "execution_count": 290,
   "metadata": {},
   "outputs": [],
   "source": [
    "target = -0.5"
   ]
  },
  {
   "cell_type": "code",
   "execution_count": 291,
   "metadata": {},
   "outputs": [
    {
     "data": {
<<<<<<< HEAD
=======
      "image/png": "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",
>>>>>>> 456be7bbe2b3d6ec3e4c8ad48db1588357483382
      "text/plain": [
       "[1.26732022120034]"
      ]
     },
     "execution_count": 291,
     "metadata": {},
     "output_type": "execute_result"
    }
   ],
   "source": [
    "client.__fit_inverse_function__(x, y, target)"
   ]
  },
  {
   "cell_type": "code",
   "execution_count": 299,
   "metadata": {},
   "outputs": [
    {
     "name": "stdout",
     "output_type": "stream",
     "text": [
      "[]\n",
      "[]\n",
      "[]\n"
     ]
    }
   ],
   "source": [
    "print(client.__fit_iterative__(x, y, target, 'forward'))\n",
    "print(client.__fit_iterative__(x, y, target, 'backward'))\n",
    "print(client.__fit_iterative__(x, y, target))"
   ]
  },
  {
   "cell_type": "code",
<<<<<<< HEAD
   "execution_count": 296,
   "metadata": {},
   "outputs": [
    {
     "data": {
      "text/plain": [
       "array([2.75, 3.5 , 4.25, 5.  , 5.75, 6.5 , 7.25])"
      ]
     },
     "execution_count": 296,
     "metadata": {},
     "output_type": "execute_result"
    }
   ],
   "source": [
    "y = 3*x + 2\n",
    "y"
   ]
  },
  {
   "cell_type": "code",
   "execution_count": 298,
   "metadata": {},
   "outputs": [],
   "source": [
    "fig = go.Figure()\n",
    "\n",
    "fig.add_trace(\n",
    "    go.Scatter(x=x, y=y)\n",
    ")\n",
    "\n",
    "fig.write_image(\"linear_xy.png\")"
   ]
  },
  {
   "cell_type": "code",
   "execution_count": 300,
=======
   "execution_count": 8,
>>>>>>> 456be7bbe2b3d6ec3e4c8ad48db1588357483382
   "metadata": {},
   "outputs": [],
   "source": [
    "target = 4.5"
   ]
  },
  {
   "cell_type": "code",
<<<<<<< HEAD
   "execution_count": 302,
=======
   "execution_count": 9,
>>>>>>> 456be7bbe2b3d6ec3e4c8ad48db1588357483382
   "metadata": {},
   "outputs": [
    {
     "name": "stdout",
     "output_type": "stream",
     "text": [
<<<<<<< HEAD
      "[0.833333333333333]\n",
      "Forward\n",
      "[{'root': -0.3383333333333334, 'iteration': 2, 'tol': 0.0, 'isConvergence': True}]\n",
      "Backward\n",
      "[{'root': -0.33833333333333315, 'iteration': 2, 'tol': 0.0, 'isConvergence': True}]\n"
     ]
    }
   ],
   "source": [
    "print(client.__fit_inverse_function__(x, y, target))\n",
    "print(client.__fit_iterative__(x, y, target, 'forward'))\n",
    "print(client.__fit_iterative__(x, y, target, 'backward'))"
=======
      "{(2, 3): (0, 5), (6, 7): (5, 9)}\n",
      "[[ 0.921875    0.5933642  -1.58333333  1.        ]\n",
      " [ 0.95483968  0.41743827 -1.41666667  0.        ]\n",
      " [ 0.97803069  0.26003086  0.          0.        ]\n",
      " [ 0.99247685  0.          0.          0.        ]]\n",
      "[[ 0.99363426 -0.18441358 -0.58333333  1.        ]\n",
      " [ 0.98338906 -0.2492284  -0.41666667  0.        ]\n",
      " [ 0.96954304 -0.29552469  0.          0.        ]\n",
      " [ 0.953125    0.          0.          0.        ]]\n"
     ]
    },
    {
     "data": {
      "text/plain": [
       "[{'root': 5.00912918709353e+322175111801781151797147740875412035165636017771,\n",
       "  'iteration': 100,\n",
       "  'tol': 5.00912918709353e+322175111801781151797147740875412035165636017771,\n",
       "  'isConvergence': False},\n",
       " {'root': 5.56805109781082e+319393809493912665084209857242650847239252717733,\n",
       "  'iteration': 100,\n",
       "  'tol': 1.00224919760595e+319393809493912665084209857242650847239252717735,\n",
       "  'isConvergence': False}]"
      ]
     },
     "execution_count": 9,
     "metadata": {},
     "output_type": "execute_result"
    }
   ],
   "source": [
    "client.fit(observations, references, val)"
>>>>>>> 456be7bbe2b3d6ec3e4c8ad48db1588357483382
   ]
  },
  {
   "cell_type": "code",
   "execution_count": null,
   "metadata": {},
   "outputs": [],
   "source": []
  }
 ],
 "metadata": {
  "interpreter": {
   "hash": "05c950c2b21730c3918e76f8461d4d164a94452cdcd9f5dd4be39da6688be54f"
  },
  "kernelspec": {
   "display_name": "Python 3.9.5 64-bit ('deepLearning': conda)",
   "language": "python",
   "name": "python3"
  },
  "language_info": {
   "codemirror_mode": {
    "name": "ipython",
    "version": 3
   },
   "file_extension": ".py",
   "mimetype": "text/x-python",
   "name": "python",
   "nbconvert_exporter": "python",
   "pygments_lexer": "ipython3",
   "version": "3.9.7"
  },
  "orig_nbformat": 4
 },
 "nbformat": 4,
 "nbformat_minor": 2
}
