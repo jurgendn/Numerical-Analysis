{
 "cells": [
  {
   "cell_type": "code",
   "execution_count": 54,
   "metadata": {},
   "outputs": [],
   "source": [
    "from functools import reduce\n",
    "from operator import mul\n",
    "from typing import Iterable\n",
    "\n",
    "import numpy as np\n",
    "import pandas as pd\n",
    "import sympy as sy\n"
   ]
  },
  {
   "cell_type": "code",
   "execution_count": 2,
   "metadata": {},
   "outputs": [],
   "source": [
    "y = np.random.randint(0, 10, 6)"
   ]
  },
  {
   "cell_type": "code",
   "execution_count": 21,
   "metadata": {},
   "outputs": [],
   "source": [
    "t = 0.5"
   ]
  },
  {
   "cell_type": "code",
   "execution_count": 53,
   "metadata": {},
   "outputs": [],
   "source": []
  },
  {
   "cell_type": "code",
   "execution_count": 62,
   "metadata": {},
   "outputs": [],
   "source": [
    "def generate_factorial(index: int):\n",
    "    return reduce(mul, range(1, index + 1))\n",
    "\n",
    "\n",
    "def generate_coef(val, index: int):\n",
    "    base_list = range(0, index + 1)\n",
    "    terms = map(lambda term: val - term, base_list)\n",
    "    return reduce(mul, terms) / generate_factorial(index)\n",
    "\n",
    "\n",
    "def generate_differential(Y: Iterable, order: int):\n",
    "    return np.diff(Y, order)\n",
    "\n",
    "\n",
    "def get_function(Y: Iterable, val: float):\n",
    "    max_order = len(Y) - 1\n",
    "    t = sy.Symbol('t')\n",
    "    res = val\n",
    "    for order in range(1, max_order + 1):\n",
    "        coef = generate_coef(val, order)\n",
    "        res -= np.diff(Y, order)[0] * coef\n",
    "    res = res + generate_coef(val, 1) * np.diff(Y, 1)[0]\n",
    "    return res"
   ]
  },
  {
   "cell_type": "code",
   "execution_count": 69,
   "metadata": {},
   "outputs": [
    {
     "data": {
      "text/plain": [
       "array([ 0, -1, -2, -3, -4, -5])"
      ]
     },
     "execution_count": 69,
     "metadata": {},
     "output_type": "execute_result"
    }
   ],
   "source": [
    "np.flip(list(range(-5, 0 + 1)))"
   ]
  },
  {
   "cell_type": "code",
   "execution_count": null,
   "metadata": {},
   "outputs": [],
   "source": []
  }
 ],
 "metadata": {
  "interpreter": {
   "hash": "05c950c2b21730c3918e76f8461d4d164a94452cdcd9f5dd4be39da6688be54f"
  },
  "kernelspec": {
   "display_name": "Python 3.9.5 64-bit ('deepLearning': conda)",
   "language": "python",
   "name": "python3"
  },
  "language_info": {
   "codemirror_mode": {
    "name": "ipython",
    "version": 3
   },
   "file_extension": ".py",
   "mimetype": "text/x-python",
   "name": "python",
   "nbconvert_exporter": "python",
   "pygments_lexer": "ipython3",
   "version": "3.9.5"
  },
  "orig_nbformat": 4
 },
 "nbformat": 4,
 "nbformat_minor": 2
}
